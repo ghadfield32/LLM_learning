{
 "cells": [
  {
   "cell_type": "code",
   "execution_count": null,
   "metadata": {},
   "outputs": [],
   "source": [
    "docker stop <CONTAINER_ID>\n",
    "\n",
    "\n",
    "docker run `\n",
    "    -it `\n",
    "    --pull=always `\n",
    "    -e SANDBOX_USER_ID=1000 `\n",
    "    -e SANDBOX_TYPE=exec `\n",
    "    -e WORKSPACE_MOUNT_PATH=$env:WORKSPACE_BASE `\n",
    "    -v $env:WORKSPACE_BASE:/opt/workspace_base `\n",
    "    -v /var/run/docker.sock:/var/run/docker.sock `\n",
    "    -p 3001:3000 `\n",
    "    --add-host host.docker.internal:host-gateway `\n",
    "    ghcr.io/opendevin/opendevin:0.5\n"
   ]
  }
 ],
 "metadata": {
  "language_info": {
   "name": "python"
  }
 },
 "nbformat": 4,
 "nbformat_minor": 2
}
